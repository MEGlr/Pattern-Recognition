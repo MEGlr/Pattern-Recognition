{
  "nbformat": 4,
  "nbformat_minor": 0,
  "metadata": {
    "colab": {
      "provenance": [],
      "collapsed_sections": []
    },
    "kernelspec": {
      "name": "python3",
      "display_name": "Python 3"
    },
    "language_info": {
      "name": "python"
    },
    "accelerator": "GPU"
  },
  "cells": [
    {
      "cell_type": "code",
      "execution_count": 1,
      "metadata": {
        "id": "LOCoVu_FZ50n",
        "colab": {
          "base_uri": "https://localhost:8080/"
        },
        "outputId": "6ea16bf4-18d5-4830-cfec-8cfe405dec02"
      },
      "outputs": [
        {
          "output_type": "stream",
          "name": "stdout",
          "text": [
            "Mounted at /content/drive\n",
            "/content/drive/MyDrive/patrec\n"
          ]
        }
      ],
      "source": [
        "# mount drive\n",
        "from google.colab import drive\n",
        "drive.mount(\"/content/drive\")\n",
        "%cd /content/drive/MyDrive/patrec"
      ]
    },
    {
      "cell_type": "code",
      "source": [
        "#import requires libraries & lib.py file\n",
        "\n",
        "import numpy as np\n",
        "from matplotlib import pyplot as plt\n",
        "from lib import *\n",
        "from sklearn.metrics.pairwise import euclidean_distances"
      ],
      "metadata": {
        "id": "LiXe8hg4bY1X"
      },
      "execution_count": 2,
      "outputs": []
    },
    {
      "cell_type": "code",
      "source": [
        "#STEP 1\n",
        "\n",
        "train = np.loadtxt('/content/drive/MyDrive/patrec/data/train.txt')\n",
        "test = np.loadtxt('/content/drive/MyDrive/patrec/data/test.txt')\n",
        "\n",
        "X_train = train[:, 1:]\n",
        "y_train = train[:, 0]\n",
        "\n",
        "X_test = test[:, 1:]\n",
        "y_test = test[:, 0]\n",
        "\n"
      ],
      "metadata": {
        "id": "6_tH-Q4FdTZ_"
      },
      "execution_count": 3,
      "outputs": []
    },
    {
      "cell_type": "code",
      "source": [
        "#lib.py  ----------------------------------------------------------\n",
        "import numpy as np\n",
        "import matplotlib.pyplot as plt\n",
        "import random\n",
        "import statistics as stats\n",
        "\n",
        "def show_sample(X, index):\n",
        "    '''Takes a dataset (e.g. X_train) and imshows the digit at the corresponding index\n",
        "    Args:\n",
        "        X (np.ndarray): Digits data (nsamples x nfeatures)\n",
        "        index (int): index of digit to show\n",
        "    '''\n",
        "    plt.imshow(np.reshape(X[index], (16,16)), cmap = 'gray')\n",
        "    plt.title(str(index)+ '-th digit')\n",
        "\n",
        "def plot_digits_samples(X, y):\n",
        "    '''Takes a dataset and selects one example from each label and plots it in subplots\n",
        "    Args:\n",
        "        X (np.ndarray): Digits data (nsamples x nfeatures)\n",
        "        y (np.ndarray): Labels for dataset (nsamples)\n",
        "    '''\n",
        "   \n",
        "    # use digit 0-9 to organize y's data represented by index in table indices_for_digit \n",
        "    indices_for_digit = [[] for i in range(10)]\n",
        "    for i, digit in enumerate(y):\n",
        "         indices_for_digit[int(digit)].append(i)\n",
        "\n",
        "    # select one index from each digit in random (using random.choise function)\n",
        "    digit_samples = []\n",
        "    for i in range(10):\n",
        "        digit_samples.append(random.choice(indices_for_digit[i]))\n",
        "    \n",
        "    # plot the randomly chosen samples\n",
        "    fig, ax = plt.subplots(1, 10, figsize=(20, 3))\n",
        "    fig.suptitle(\"random digits 0-9\", fontsize=15)\n",
        "    fig.tight_layout()\n",
        "    #fig.subplots_adjust(top=2)\n",
        "    for i in range(10):\n",
        "        ax[i].imshow(np.reshape(X[digit_samples[i]], (16,16)), cmap = 'gray')\n",
        "        ax[i].set_title('digit : {}'.format(i))\n",
        "    plt.show()\n",
        "\n",
        "def digit_mean_at_pixel(X, y, digit, pixel=(10, 10)):\n",
        "    '''Calculates the mean for all instances of a specific digit at a pixel location\n",
        "\n",
        "    Args:\n",
        "        X (np.ndarray): Digits data (nsamples x nfeatures)\n",
        "        y (np.ndarray): Labels for dataset (nsamples)\n",
        "        digit (int): The digit we need to select\n",
        "        pixels (tuple of ints): The pixels we need to select.\n",
        "\n",
        "    Returns:\n",
        "        (float): The mean value of the digits for the specified pixels\n",
        "    '''\n",
        "    digit_indices = np.where(y==digit)[0]\n",
        "    pixel_values = []\n",
        "    for index in digit_indices:\n",
        "      pixel_values.append(X[index][pixel[0]*16+pixel[1]])\n",
        "    return stats.mean(pixel_values)\n",
        "\n",
        "def digit_variance_at_pixel(X, y, digit, pixel=(10, 10)):\n",
        "    '''Calculates the variance for all instances of a specific digit at a pixel location\n",
        "\n",
        "    Args:\n",
        "        X (np.ndarray): Digits data (nsamples x nfeatures)\n",
        "        y (np.ndarray): Labels for dataset (nsamples)\n",
        "        digit (int): The digit we need to select\n",
        "        pixels (tuple of ints): The pixels we need to select\n",
        "\n",
        "    Returns:\n",
        "        (float): The variance value of the digits for the specified pixels\n",
        "    '''\n",
        "    digit_indices = np.where(y==digit)[0]\n",
        "    pixel_values = []\n",
        "    for index in digit_indices:\n",
        "      pixel_values.append(X[index][pixel[0]*16+pixel[1]])\n",
        "    return stats.variance(pixel_values)\n",
        "\n",
        "def digit_mean(X, y, digit):\n",
        "    '''Calculates the mean for all instances of a specific digit\n",
        "\n",
        "    Args:\n",
        "        X (np.ndarray): Digits data (nsamples x nfeatures)\n",
        "        y (np.ndarray): Labels for dataset (nsamples)\n",
        "        digit (int): The digit we need to select\n",
        "\n",
        "    Returns:\n",
        "        (np.ndarray): The mean value of the digits for every pixel\n",
        "    '''\n",
        "    digit_indices = np.where(y==digit)[0]\n",
        "    means = [[digit_mean_at_pixel(X, y, digit, (i,j)) for j in range(16)] for i in range(16)]\n",
        "    return np.array(means).reshape(-1)\n",
        "\n",
        "\n",
        "\n",
        "def digit_variance(X, y, digit):\n",
        "    '''Calculates the variance for all instances of a specific digit\n",
        "\n",
        "    Args:\n",
        "        X (np.ndarray): Digits data (nsamples x nfeatures)\n",
        "        y (np.ndarray): Labels for dataset (nsamples)\n",
        "        digit (int): The digit we need to select\n",
        "\n",
        "    Returns:\n",
        "        (np.ndarray): The variance value of the digits for every pixel\n",
        "    '''\n",
        "\n",
        "    digit_indices = np.where(y==digit)[0]\n",
        "    variances = [[digit_variance_at_pixel(X, y, digit, (i,j)) for j in range(16)] for i in range(16)]\n",
        "    return np.array(variances).flatten()\n",
        "    \n",
        "def euclidean_distance(s, m):\n",
        "    '''Calculates the euclidean distance between a sample s and a mean template m\n",
        "\n",
        "    Args:\n",
        "        s (np.ndarray): Sample (nfeatures)\n",
        "        m (np.ndarray): Template (nfeatures)\n",
        "\n",
        "    Returns:\n",
        "        (float) The Euclidean distance between s and m\n",
        "    '''\n",
        "    return euclidean_distances(s.reshape(1, -1), m.reshape(1, -1))\n",
        "\n",
        "def euclidean_distance_classifier(X, X_mean):\n",
        "    '''Classifiece based on the euclidean distance between samples in X and template vectors in X_mean\n",
        "\n",
        "    Args:\n",
        "        X (np.ndarray): Digits data (nsamples x nfeatures)\n",
        "        X_mean (np.ndarray): Digits data (n_classes x nfeatures)\n",
        "\n",
        "    Returns:\n",
        "        (np.ndarray) predictions (nsamples)\n",
        "    '''\n",
        "    predictions = []\n",
        "    for sample in X:\n",
        "       euclidean_distances_digit_current = [euclidean_distance(sample, X_mean[i]) for i in range(10)]\n",
        "       pred = np.argmin(min(euclidean_distances_digit_current))\n",
        "       predictions.append(pred)\n",
        "\n",
        "    return np.array(predictions)\n"
      ],
      "metadata": {
        "id": "vK2ozJbzAGeE"
      },
      "execution_count": 4,
      "outputs": []
    },
    {
      "cell_type": "markdown",
      "source": [
        "STEP 2"
      ],
      "metadata": {
        "id": "OLGsVXufcnDN"
      }
    },
    {
      "cell_type": "code",
      "source": [
        "#STEP 2  ----------------------------------------------------------\n",
        "show_sample(X_train, 131)\n"
      ],
      "metadata": {
        "id": "UKXUlbhffpPT",
        "colab": {
          "base_uri": "https://localhost:8080/",
          "height": 281
        },
        "outputId": "55d71b47-d844-45ae-be75-186b3e2eb0cc"
      },
      "execution_count": 5,
      "outputs": [
        {
          "output_type": "display_data",
          "data": {
            "text/plain": [
              "<Figure size 432x288 with 1 Axes>"
            ],
            "image/png": "[encoded data removed]"
          },
          "metadata": {
            "needs_background": "light"
          }
        }
      ]
    },
    {
      "cell_type": "markdown",
      "source": [
        "STEP 3"
      ],
      "metadata": {
        "id": "CPfnXlkEcg9g"
      }
    },
    {
      "cell_type": "code",
      "source": [
        "#STEP 3  ----------------------------------------------------------\n",
        "plot_digits_samples(X_train, y_train)"
      ],
      "metadata": {
        "id": "LNgLx8we9xOv",
        "colab": {
          "base_uri": "https://localhost:8080/",
          "height": 195
        },
        "outputId": "1e6d51e4-d9d0-495e-b07c-e310568b332a"
      },
      "execution_count": 6,
      "outputs": [
        {
          "output_type": "display_data",
          "data": {
            "text/plain": [
              "<Figure size 1440x216 with 10 Axes>"
            ],
            "image/png": "[encoded data removed]"
          },
          "metadata": {
            "needs_background": "light"
          }
        }
      ]
    },
    {
      "cell_type": "markdown",
      "source": [
        "STEP 4"
      ],
      "metadata": {
        "id": "jFsWiCQ0ccGh"
      }
    },
    {
      "cell_type": "code",
      "source": [
        "#STEP 4  ----------------------------------------------------------\n",
        "mean_0_10_10 = digit_mean_at_pixel(X_train, y_train, 0, (10,10))\n",
        "print(f'Mean value of attributes of (10,10) pixel for digit 0 is {mean_0_10_10:.3f}')"
      ],
      "metadata": {
        "colab": {
          "base_uri": "https://localhost:8080/"
        },
        "id": "MyRpAYVpRx8M",
        "outputId": "92d12826-5ae5-4772-cdb3-53287bed5575"
      },
      "execution_count": 7,
      "outputs": [
        {
          "output_type": "stream",
          "name": "stdout",
          "text": [
            "Mean value of attributes of (10,10) pixel for digit 0 is -0.504\n"
          ]
        }
      ]
    },
    {
      "cell_type": "markdown",
      "source": [
        "STEP 5"
      ],
      "metadata": {
        "id": "o4uwrU03dvU4"
      }
    },
    {
      "cell_type": "code",
      "source": [
        "#STEP 5  ----------------------------------------------------------\n",
        "variance_0_10_10 = digit_variance_at_pixel(X_train, y_train, 0, (10,10))\n",
        "print(f'Variance value of attributes of (10,10) pixel for digit 0 is {variance_0_10_10:.3f}')"
      ],
      "metadata": {
        "colab": {
          "base_uri": "https://localhost:8080/"
        },
        "id": "jk4peehhdwsq",
        "outputId": "0ee535a6-d975-4a43-9f77-101905f509fc"
      },
      "execution_count": 8,
      "outputs": [
        {
          "output_type": "stream",
          "name": "stdout",
          "text": [
            "Variance value of attributes of (10,10) pixel for digit 0 is 0.525\n"
          ]
        }
      ]
    },
    {
      "cell_type": "markdown",
      "source": [
        "STEP 6"
      ],
      "metadata": {
        "id": "0SSMephBezk8"
      }
    },
    {
      "cell_type": "code",
      "source": [
        "#STEP 6  ----------------------------------------------------------\n",
        "mean_0 = digit_mean(X_train, y_train, 0)\n",
        "variance_0 = digit_variance(X_train, y_train, 0)"
      ],
      "metadata": {
        "id": "irCtXN-De1Gg"
      },
      "execution_count": 9,
      "outputs": []
    },
    {
      "cell_type": "markdown",
      "source": [
        "STEP 7"
      ],
      "metadata": {
        "id": "GhKWNQ7tkUJ-"
      }
    },
    {
      "cell_type": "code",
      "source": [
        "#STEP 7  ----------------------------------------------------------\n",
        "fig, ax = plt.subplots()\n",
        "ax.imshow(mean_0.reshape((16,16)), cmap = 'gray')\n",
        "ax.set_title('digit 0 designed based on \\n mean values of features')\n",
        "ax.axis('off')"
      ],
      "metadata": {
        "colab": {
          "base_uri": "https://localhost:8080/",
          "height": 296
        },
        "id": "euAoP5mBkVar",
        "outputId": "5ac7291a-0846-4b78-9944-52c6be11ccad"
      },
      "execution_count": 10,
      "outputs": [
        {
          "output_type": "execute_result",
          "data": {
            "text/plain": [
              "(-0.5, 15.5, 15.5, -0.5)"
            ]
          },
          "metadata": {},
          "execution_count": 10
        },
        {
          "output_type": "display_data",
          "data": {
            "text/plain": [
              "<Figure size 432x288 with 1 Axes>"
            ],
            "image/png": "[encoded data removed]"
          },
          "metadata": {
            "needs_background": "light"
          }
        }
      ]
    },
    {
      "cell_type": "markdown",
      "source": [
        "STEP 8"
      ],
      "metadata": {
        "id": "MKANMHdmnt5l"
      }
    },
    {
      "cell_type": "code",
      "source": [
        "#STEP 8  ----------------------------------------------------------\n",
        "fig, ax = plt.subplots()\n",
        "ax.imshow(variance_0.reshape((16,16)), cmap = 'gray')\n",
        "ax.set_title('digit 0 designed based on \\n variance values of features')\n",
        "ax.axis('off')"
      ],
      "metadata": {
        "colab": {
          "base_uri": "https://localhost:8080/",
          "height": 296
        },
        "id": "bJbUBLeKnvZN",
        "outputId": "3de5fa26-8557-4df9-8d48-551aac1f2b35"
      },
      "execution_count": 11,
      "outputs": [
        {
          "output_type": "execute_result",
          "data": {
            "text/plain": [
              "(-0.5, 15.5, 15.5, -0.5)"
            ]
          },
          "metadata": {},
          "execution_count": 11
        },
        {
          "output_type": "display_data",
          "data": {
            "text/plain": [
              "<Figure size 432x288 with 1 Axes>"
            ],
            "image/png": "[encoded data removed]"
          },
          "metadata": {
            "needs_background": "light"
          }
        }
      ]
    },
    {
      "cell_type": "markdown",
      "source": [
        "Comparison"
      ],
      "metadata": {
        "id": "CMm_p5BbpMqo"
      }
    },
    {
      "cell_type": "code",
      "source": [
        "fig, ax = plt.subplots(1,2)\n",
        "ax[0].imshow(mean_0.reshape((16,16)), cmap = 'gray')\n",
        "ax[0].set_title('digit 0 designed\\n based on mean values\\n of features')\n",
        "ax[0].axis('off')\n",
        "ax[1].imshow(variance_0.reshape((16,16)), cmap = 'gray')\n",
        "ax[1].set_title('digit 0 designed\\n based on variance values\\n of features')\n",
        "ax[1].axis('off')\n",
        "fig.suptitle(\"comparison\", fontsize=15)"
      ],
      "metadata": {
        "colab": {
          "base_uri": "https://localhost:8080/",
          "height": 262
        },
        "id": "Fu1-xZODpX2C",
        "outputId": "754c16a2-e5b1-4c35-cea7-93bdc13586bd"
      },
      "execution_count": 12,
      "outputs": [
        {
          "output_type": "execute_result",
          "data": {
            "text/plain": [
              "Text(0.5, 0.98, 'comparison')"
            ]
          },
          "metadata": {},
          "execution_count": 12
        },
        {
          "output_type": "display_data",
          "data": {
            "text/plain": [
              "<Figure size 432x288 with 2 Axes>"
            ],
            "image/png": "[encoded data removed]"
          },
          "metadata": {
            "needs_background": "light"
          }
        }
      ]
    },
    {
      "cell_type": "code",
      "source": [
        "#STEP 9  ----------------------------------------------------------\n",
        "\n",
        "#a  ----------------------------------------------------------\n",
        "\n",
        "#means and variance values of digits' features\n",
        "digit_means = [digit_mean(X_train, y_train, i) for i in range(10)]\n",
        "digit_variances = [digit_variance(X_train, y_train, i) for i in range(10)]\n"
      ],
      "metadata": {
        "id": "wLWxFWtLEett"
      },
      "execution_count": 13,
      "outputs": []
    },
    {
      "cell_type": "code",
      "source": [
        "#b  ----------------------------------------------------------\n",
        "fig, ax = plt.subplots(1,10,figsize=(20, 3))\n",
        "for i in range(10):\n",
        "  ax[i].imshow(digit_means[i].reshape((16,16)), cmap = 'gray')\n",
        "  ax[i].set_title(f'{i}')\n",
        "  ax[i].axis('off')\n",
        "\n",
        "fig.suptitle(\"digits designed based on mean values of features\", fontsize=15)"
      ],
      "metadata": {
        "colab": {
          "base_uri": "https://localhost:8080/",
          "height": 198
        },
        "id": "ek3HhcaTGcgH",
        "outputId": "588cd27b-ac6c-4727-b886-155aeeadc796"
      },
      "execution_count": 14,
      "outputs": [
        {
          "output_type": "execute_result",
          "data": {
            "text/plain": [
              "Text(0.5, 0.98, 'digits designed based on mean values of features')"
            ]
          },
          "metadata": {},
          "execution_count": 14
        },
        {
          "output_type": "display_data",
          "data": {
            "text/plain": [
              "<Figure size 1440x216 with 10 Axes>"
            ],
            "image/png": "[encoded data removed]"
          },
          "metadata": {
            "needs_background": "light"
          }
        }
      ]
    },
    {
      "cell_type": "code",
      "source": [
        "#STEP 10  ----------------------------------------------------------\n",
        "\n",
        "#table of euclidean distances of each 0-9 digit's mean features \n",
        "#the 101 digit's features (101 digit of test data)\n",
        "euclidean_distances_digit_101 = [euclidean_distance(digit_means[i], X_test[101]) for i in range(10)]\n",
        "\n",
        "digit_101_category = np.argmin(min(euclidean_distances_digit_101))\n",
        "print(f'According to euclidean distance, digit no 101 of test data is classified as the digit {digit_101_category}.')\n",
        "\n",
        "#check known labels of test set to find out if the above classification is correct or not\n",
        "eval_101 = \"correct\" if digit_101_category == y_train[101] else \"wrong\"\n",
        "print(\"This classification is \" + eval_101 + \".\")"
      ],
      "metadata": {
        "colab": {
          "base_uri": "https://localhost:8080/"
        },
        "id": "dBA67REuGjlu",
        "outputId": "f4bbb23d-24d8-48ba-b492-3e1c86d4ce30"
      },
      "execution_count": 15,
      "outputs": [
        {
          "output_type": "stream",
          "name": "stdout",
          "text": [
            "According to euclidean distance, digit no 101 of test data is classified as the digit 0.\n",
            "This classification is correct.\n"
          ]
        }
      ]
    },
    {
      "cell_type": "code",
      "source": [
        "#STEP 11  ----------------------------------------------------------\n",
        "#TODO \n",
        "#sth wrong with classifier - too low success percentage\n",
        "predictions_test_set = euclidean_distance_classifier(X_test, digit_means)\n",
        "success_percent = (np.sum(predictions_test_set == y_test))/len(y_test)\n",
        "print(f'The success percentage for the classifier is {success_percent*100} %.')\n"
      ],
      "metadata": {
        "colab": {
          "base_uri": "https://localhost:8080/"
        },
        "id": "u3Ux5g6PPFOC",
        "outputId": "1d5d8499-7f13-479c-9ef2-1d048e337963"
      },
      "execution_count": 16,
      "outputs": [
        {
          "output_type": "stream",
          "name": "stdout",
          "text": [
            "The success percentage for the classifier is 17.887394120577977 %.\n"
          ]
        }
      ]
    }
  ]
}